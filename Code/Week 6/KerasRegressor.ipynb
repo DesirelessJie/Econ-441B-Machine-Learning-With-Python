{
  "nbformat": 4,
  "nbformat_minor": 0,
  "metadata": {
    "colab": {
      "provenance": []
    },
    "kernelspec": {
      "name": "python3",
      "display_name": "Python 3"
    },
    "language_info": {
      "name": "python"
    }
  },
  "cells": [
    {
      "cell_type": "markdown",
      "source": [
        "# 1.) Preprocess your data into scaled input variables and an output variable\n"
      ],
      "metadata": {
        "id": "7ywSRtNI4s5h"
      }
    },
    {
      "cell_type": "code",
      "execution_count": 2,
      "metadata": {
        "id": "nsG1QV154GYZ"
      },
      "outputs": [],
      "source": [
        "import pandas as pd\n",
        "from google.colab import drive\n",
        "import matplotlib.pyplot as plt\n",
        "import numpy as np\n",
        "import datetime"
      ]
    },
    {
      "cell_type": "code",
      "source": [
        "drive.mount('/content/gdrive/', force_remount = True)"
      ],
      "metadata": {
        "colab": {
          "base_uri": "https://localhost:8080/"
        },
        "id": "Iku0T8Ou4Lcu",
        "outputId": "0f2bcdb3-8238-47a2-db02-5ae059697dd2"
      },
      "execution_count": 3,
      "outputs": [
        {
          "output_type": "stream",
          "name": "stdout",
          "text": [
            "Mounted at /content/gdrive/\n"
          ]
        }
      ]
    },
    {
      "cell_type": "code",
      "source": [
        "df = pd.read_csv(\"/content/gdrive/MyDrive/Econ441B/week 6/CLV.csv\")"
      ],
      "metadata": {
        "id": "Q7XmCWs_rULl"
      },
      "execution_count": 4,
      "outputs": []
    },
    {
      "cell_type": "code",
      "source": [
        "X = df.drop([\"Unnamed: 0\",\"Customer Lifetime Value\"], axis =1 )\n",
        "y = df['Customer Lifetime Value']"
      ],
      "metadata": {
        "id": "hN53osSaWoJd"
      },
      "execution_count": 5,
      "outputs": []
    },
    {
      "cell_type": "code",
      "source": [
        "from sklearn.model_selection import train_test_split\n",
        "X_train, X_test, y_train, y_test = train_test_split(X, y, test_size = .3)"
      ],
      "metadata": {
        "id": "uCTBr9OjWIEq"
      },
      "execution_count": 6,
      "outputs": []
    },
    {
      "cell_type": "code",
      "source": [
        "from sklearn.preprocessing import StandardScaler"
      ],
      "metadata": {
        "id": "BaX5ur0GyAh6"
      },
      "execution_count": 7,
      "outputs": []
    },
    {
      "cell_type": "code",
      "source": [
        "scaler = StandardScaler()\n",
        "X_train = scaler.fit_transform(X_train)\n",
        "X_test = scaler.transform(X_test)"
      ],
      "metadata": {
        "id": "BJmAsFM1TRFA"
      },
      "execution_count": 8,
      "outputs": []
    },
    {
      "cell_type": "markdown",
      "source": [
        "# 2.) Run a GridSearch CV on at least 10 possible combinations of hyper parameters "
      ],
      "metadata": {
        "id": "OacsID8kTRvk"
      }
    },
    {
      "cell_type": "code",
      "source": [
        "from sklearn.neural_network import MLPRegressor\n",
        "from sklearn.model_selection import GridSearchCV"
      ],
      "metadata": {
        "id": "8WKQg4bxTq1-"
      },
      "execution_count": 9,
      "outputs": []
    },
    {
      "cell_type": "code",
      "source": [
        "clf = MLPRegressor()\n",
        "\n",
        "params = {\n",
        "    \"hidden_layer_sizes\": [(10,), (20,5,)], \n",
        "    \"activation\" : ['relu','logistic']\n",
        "}"
      ],
      "metadata": {
        "id": "7n4F6kC5Tq5J"
      },
      "execution_count": 10,
      "outputs": []
    },
    {
      "cell_type": "code",
      "source": [
        "grid = GridSearchCV(clf, params, cv = 5)\n",
        "grid.fit(X_train, y_train)"
      ],
      "metadata": {
        "colab": {
          "base_uri": "https://localhost:8080/"
        },
        "id": "bDFJoC6Hc7GD",
        "outputId": "dbfde829-3903-47c6-8432-7648624048cc"
      },
      "execution_count": 11,
      "outputs": [
        {
          "output_type": "stream",
          "name": "stderr",
          "text": [
            "/usr/local/lib/python3.8/dist-packages/sklearn/neural_network/_multilayer_perceptron.py:692: ConvergenceWarning: Stochastic Optimizer: Maximum iterations (200) reached and the optimization hasn't converged yet.\n",
            "  warnings.warn(\n",
            "/usr/local/lib/python3.8/dist-packages/sklearn/neural_network/_multilayer_perceptron.py:692: ConvergenceWarning: Stochastic Optimizer: Maximum iterations (200) reached and the optimization hasn't converged yet.\n",
            "  warnings.warn(\n",
            "/usr/local/lib/python3.8/dist-packages/sklearn/neural_network/_multilayer_perceptron.py:692: ConvergenceWarning: Stochastic Optimizer: Maximum iterations (200) reached and the optimization hasn't converged yet.\n",
            "  warnings.warn(\n",
            "/usr/local/lib/python3.8/dist-packages/sklearn/neural_network/_multilayer_perceptron.py:692: ConvergenceWarning: Stochastic Optimizer: Maximum iterations (200) reached and the optimization hasn't converged yet.\n",
            "  warnings.warn(\n",
            "/usr/local/lib/python3.8/dist-packages/sklearn/neural_network/_multilayer_perceptron.py:692: ConvergenceWarning: Stochastic Optimizer: Maximum iterations (200) reached and the optimization hasn't converged yet.\n",
            "  warnings.warn(\n",
            "/usr/local/lib/python3.8/dist-packages/sklearn/neural_network/_multilayer_perceptron.py:692: ConvergenceWarning: Stochastic Optimizer: Maximum iterations (200) reached and the optimization hasn't converged yet.\n",
            "  warnings.warn(\n",
            "/usr/local/lib/python3.8/dist-packages/sklearn/neural_network/_multilayer_perceptron.py:692: ConvergenceWarning: Stochastic Optimizer: Maximum iterations (200) reached and the optimization hasn't converged yet.\n",
            "  warnings.warn(\n",
            "/usr/local/lib/python3.8/dist-packages/sklearn/neural_network/_multilayer_perceptron.py:692: ConvergenceWarning: Stochastic Optimizer: Maximum iterations (200) reached and the optimization hasn't converged yet.\n",
            "  warnings.warn(\n",
            "/usr/local/lib/python3.8/dist-packages/sklearn/neural_network/_multilayer_perceptron.py:692: ConvergenceWarning: Stochastic Optimizer: Maximum iterations (200) reached and the optimization hasn't converged yet.\n",
            "  warnings.warn(\n",
            "/usr/local/lib/python3.8/dist-packages/sklearn/neural_network/_multilayer_perceptron.py:692: ConvergenceWarning: Stochastic Optimizer: Maximum iterations (200) reached and the optimization hasn't converged yet.\n",
            "  warnings.warn(\n",
            "/usr/local/lib/python3.8/dist-packages/sklearn/neural_network/_multilayer_perceptron.py:692: ConvergenceWarning: Stochastic Optimizer: Maximum iterations (200) reached and the optimization hasn't converged yet.\n",
            "  warnings.warn(\n",
            "/usr/local/lib/python3.8/dist-packages/sklearn/neural_network/_multilayer_perceptron.py:692: ConvergenceWarning: Stochastic Optimizer: Maximum iterations (200) reached and the optimization hasn't converged yet.\n",
            "  warnings.warn(\n",
            "/usr/local/lib/python3.8/dist-packages/sklearn/neural_network/_multilayer_perceptron.py:692: ConvergenceWarning: Stochastic Optimizer: Maximum iterations (200) reached and the optimization hasn't converged yet.\n",
            "  warnings.warn(\n",
            "/usr/local/lib/python3.8/dist-packages/sklearn/neural_network/_multilayer_perceptron.py:692: ConvergenceWarning: Stochastic Optimizer: Maximum iterations (200) reached and the optimization hasn't converged yet.\n",
            "  warnings.warn(\n",
            "/usr/local/lib/python3.8/dist-packages/sklearn/neural_network/_multilayer_perceptron.py:692: ConvergenceWarning: Stochastic Optimizer: Maximum iterations (200) reached and the optimization hasn't converged yet.\n",
            "  warnings.warn(\n",
            "/usr/local/lib/python3.8/dist-packages/sklearn/neural_network/_multilayer_perceptron.py:692: ConvergenceWarning: Stochastic Optimizer: Maximum iterations (200) reached and the optimization hasn't converged yet.\n",
            "  warnings.warn(\n",
            "/usr/local/lib/python3.8/dist-packages/sklearn/neural_network/_multilayer_perceptron.py:692: ConvergenceWarning: Stochastic Optimizer: Maximum iterations (200) reached and the optimization hasn't converged yet.\n",
            "  warnings.warn(\n",
            "/usr/local/lib/python3.8/dist-packages/sklearn/neural_network/_multilayer_perceptron.py:692: ConvergenceWarning: Stochastic Optimizer: Maximum iterations (200) reached and the optimization hasn't converged yet.\n",
            "  warnings.warn(\n",
            "/usr/local/lib/python3.8/dist-packages/sklearn/neural_network/_multilayer_perceptron.py:692: ConvergenceWarning: Stochastic Optimizer: Maximum iterations (200) reached and the optimization hasn't converged yet.\n",
            "  warnings.warn(\n",
            "/usr/local/lib/python3.8/dist-packages/sklearn/neural_network/_multilayer_perceptron.py:692: ConvergenceWarning: Stochastic Optimizer: Maximum iterations (200) reached and the optimization hasn't converged yet.\n",
            "  warnings.warn(\n",
            "/usr/local/lib/python3.8/dist-packages/sklearn/neural_network/_multilayer_perceptron.py:692: ConvergenceWarning: Stochastic Optimizer: Maximum iterations (200) reached and the optimization hasn't converged yet.\n",
            "  warnings.warn(\n"
          ]
        },
        {
          "output_type": "execute_result",
          "data": {
            "text/plain": [
              "GridSearchCV(cv=5, estimator=MLPRegressor(),\n",
              "             param_grid={'activation': ['relu', 'logistic'],\n",
              "                         'hidden_layer_sizes': [(10,), (20, 5)]})"
            ]
          },
          "metadata": {},
          "execution_count": 11
        }
      ]
    },
    {
      "cell_type": "code",
      "source": [
        "print(grid.best_params_)"
      ],
      "metadata": {
        "colab": {
          "base_uri": "https://localhost:8080/"
        },
        "id": "odHV5o3rc_KG",
        "outputId": "87e57d01-e8ae-4daa-b85a-eb481eea6ca9"
      },
      "execution_count": 12,
      "outputs": [
        {
          "output_type": "stream",
          "name": "stdout",
          "text": [
            "{'activation': 'relu', 'hidden_layer_sizes': (20, 5)}\n"
          ]
        }
      ]
    },
    {
      "cell_type": "markdown",
      "source": [
        "# 3.) Train a model with the optimal solution from GridSearch"
      ],
      "metadata": {
        "id": "DKNdxiyOTsOE"
      }
    },
    {
      "cell_type": "code",
      "source": [
        "model = MLPRegressor(**grid.best_params_)"
      ],
      "metadata": {
        "id": "tlySuJN1ULTl"
      },
      "execution_count": 16,
      "outputs": []
    },
    {
      "cell_type": "markdown",
      "source": [
        "# 4.) What are the in-sample and out of sample MSEs"
      ],
      "metadata": {
        "id": "qTPkbSDwT0nO"
      }
    },
    {
      "cell_type": "code",
      "source": [
        "from sklearn.metrics import mean_squared_error\n",
        "\n",
        "y_train_pred = model.predict(X_train)\n",
        "y_test_pred = model.predict(X_test)\n",
        "\n",
        "mse_train = mean_squared_error(y_train, y_train_pred)\n",
        "mse_test = mean_squared_error(y_test, y_test_pred)\n",
        "\n",
        "print(\"In-sample MSE: \", mse_train)\n",
        "print(\"Out-of-sample MSE: \", mse_test)"
      ],
      "metadata": {
        "id": "2KuP_O-uJFg0",
        "colab": {
          "base_uri": "https://localhost:8080/"
        },
        "outputId": "07160bc4-89df-4ad7-e647-37263db8a90a"
      },
      "execution_count": 18,
      "outputs": [
        {
          "output_type": "stream",
          "name": "stdout",
          "text": [
            "In-sample MSE:  41901588.61713209\n",
            "Out-of-sample MSE:  47309886.48611788\n"
          ]
        }
      ]
    },
    {
      "cell_type": "markdown",
      "source": [
        "# 5.) Build a Keras with the architecture defined by GridSearchCV"
      ],
      "metadata": {
        "id": "YVQ1PvBK_ev0"
      }
    },
    {
      "cell_type": "code",
      "source": [
        "from keras.models import Sequential\n",
        "from keras.layers import Dense\n",
        "from keras.wrappers.scikit_learn import KerasRegressor"
      ],
      "metadata": {
        "id": "dzqvY-1Vfd3v"
      },
      "execution_count": 32,
      "outputs": []
    },
    {
      "cell_type": "code",
      "source": [
        "def create_model(layers, activation):\n",
        "    model = Sequential()\n",
        "    for i, nodes in enumerate(layers):\n",
        "        if i == 0:\n",
        "            model.add(Dense(nodes, input_dim=X_train.shape[1], activation=activation))\n",
        "        else:\n",
        "            model.add(Dense(nodes, activation=activation))\n",
        "    model.add(Dense(1))\n",
        "    model.compile(optimizer='adam', loss='mse')\n",
        "    return model"
      ],
      "metadata": {
        "id": "REnA8g8VOexH"
      },
      "execution_count": 33,
      "outputs": []
    },
    {
      "cell_type": "code",
      "source": [
        "# Define the parameter grid\n",
        "param_grid = {\n",
        "    'layers': [[13, 13], [13, 13, 13]],\n",
        "    'activation': ['relu', 'tanh']\n",
        "}\n",
        "\n",
        "# Create a GridSearchCV object\n",
        "grid = GridSearchCV(estimator=model, param_grid=param_grid, cv=5)\n",
        "\n",
        "# Fit the GridSearchCV object on the data\n",
        "grid_result = grid.fit(X_train, y_train)\n",
        "\n",
        "# Print the best parameters\n",
        "print(\"Best Parameters: \", grid_result.best_params_)\n",
        "\n",
        "# Create a new KerasRegressor object with the best parameters\n",
        "best_model = KerasRegressor(build_fn=create_model, layers=grid_result.best_params_['layers'], activation=grid_result.best_params_['activation'], verbose=0)"
      ],
      "metadata": {
        "id": "cIru4hD8Oezl",
        "colab": {
          "base_uri": "https://localhost:8080/"
        },
        "outputId": "41408d36-eb59-46ed-ece9-4f722fc98241"
      },
      "execution_count": 54,
      "outputs": [
        {
          "output_type": "stream",
          "name": "stdout",
          "text": [
            "Best Parameters:  {'activation': 'relu', 'layers': [13, 13, 13]}\n"
          ]
        },
        {
          "output_type": "stream",
          "name": "stderr",
          "text": [
            "<ipython-input-54-7f6eee389bcc>:17: DeprecationWarning: KerasRegressor is deprecated, use Sci-Keras (https://github.com/adriangb/scikeras) instead. See https://www.adriangb.com/scikeras/stable/migration.html for help migrating.\n",
            "  best_model = KerasRegressor(build_fn=create_model, layers=grid_result.best_params_['layers'], activation=grid_result.best_params_['activation'], verbose=0)\n"
          ]
        }
      ]
    },
    {
      "cell_type": "code",
      "source": [
        "# Fit the model on the data\n",
        "best_model.fit(X_train, y_train)\n",
        "\n",
        "# Use the model to make predictions\n",
        "y_pred = best_model.predict(X_test)"
      ],
      "metadata": {
        "id": "uzSdPhz2Oe2O"
      },
      "execution_count": 55,
      "outputs": []
    },
    {
      "cell_type": "markdown",
      "source": [
        "# 6.) Make two visualizations of your NN using “plot_model” and “ann_viz”"
      ],
      "metadata": {
        "id": "NirfWMLxOe-P"
      }
    },
    {
      "cell_type": "code",
      "source": [
        "best_model"
      ],
      "metadata": {
        "colab": {
          "base_uri": "https://localhost:8080/"
        },
        "id": "0enzaBGRtgXf",
        "outputId": "2b6af615-c0fc-4d9d-83a1-2ec89c952b04"
      },
      "execution_count": 57,
      "outputs": [
        {
          "output_type": "execute_result",
          "data": {
            "text/plain": [
              "<keras.wrappers.scikit_learn.KerasRegressor at 0x7facbb2447f0>"
            ]
          },
          "metadata": {},
          "execution_count": 57
        }
      ]
    },
    {
      "cell_type": "code",
      "source": [
        "from keras.models import Model\n",
        "from keras.utils import plot_model\n",
        "from ann_visualizer.visualize import ann_viz\n",
        "from IPython.display import Image, HTML\n",
        "\n",
        "# Convert the KerasRegressor model to a Keras model\n",
        "model = best_model.model\n",
        "\n",
        "# Use plot_model to create a visualization of the model architecture\n",
        "plot_model(model, to_file='model_plot.png', show_shapes=True)\n",
        "\n",
        "# Display the PNG image in the notebook\n",
        "Image(filename='model_plot.png')"
      ],
      "metadata": {
        "colab": {
          "base_uri": "https://localhost:8080/",
          "height": 533
        },
        "id": "mhTgK9-fulE8",
        "outputId": "5f87efda-bfd4-49f4-8e8b-0a6736badfa4"
      },
      "execution_count": 74,
      "outputs": [
        {
          "output_type": "execute_result",
          "data": {
            "image/png": "[encoded data removed]",
            "text/plain": [
              "<IPython.core.display.Image object>"
            ]
          },
          "metadata": {},
          "execution_count": 74
        }
      ]
    },
    {
      "cell_type": "code",
      "source": [
        "# Generate a visualization of the model using ann_viz\n",
        "ann_viz(model, view=True, filename='model_viz.html')\n",
        "\n",
        "# Display the model visualization\n",
        "HTML(filename='model_viz.html')"
      ],
      "metadata": {
        "colab": {
          "base_uri": "https://localhost:8080/",
          "height": 382
        },
        "id": "UlmH9I0QETMP",
        "outputId": "79e69f6f-0296-49dc-ac93-8fab89654298"
      },
      "execution_count": 76,
      "outputs": [
        {
          "output_type": "execute_result",
          "data": {
            "text/plain": [
              "<IPython.core.display.HTML object>"
            ],
            "text/html": [
              "digraph g {\n",
              "\tgraph [nodesep=1 ranksep=2 splines=false]\n",
              "\tedge [arrowhead=none color=\"#707070\"]\n",
              "\tsubgraph cluster_input {\n",
              "\t\tnode [color=\"#2ecc71\" fontcolor=\"#2ecc71\" shape=circle style=filled]\n",
              "\t\tcolor=white\n",
              "\t\t1\n",
              "\t\tlabel=\"My Neural Network\n",
              "\n",
              "\n",
              "\n",
              "Input Layer (+6)\"\n",
              "\t\trank=same\n",
              "\t\t2\n",
              "\t\tlabel=\"My Neural Network\n",
              "\n",
              "\n",
              "\n",
              "Input Layer (+6)\"\n",
              "\t\trank=same\n",
              "\t\t3\n",
              "\t\tlabel=\"My Neural Network\n",
              "\n",
              "\n",
              "\n",
              "Input Layer (+6)\"\n",
              "\t\trank=same\n",
              "\t\t4\n",
              "\t\tlabel=\"My Neural Network\n",
              "\n",
              "\n",
              "\n",
              "Input Layer (+6)\"\n",
              "\t\trank=same\n",
              "\t\t5\n",
              "\t\tlabel=\"My Neural Network\n",
              "\n",
              "\n",
              "\n",
              "Input Layer (+6)\"\n",
              "\t\trank=same\n",
              "\t\t6\n",
              "\t\tlabel=\"My Neural Network\n",
              "\n",
              "\n",
              "\n",
              "Input Layer (+6)\"\n",
              "\t\trank=same\n",
              "\t\t7\n",
              "\t\tlabel=\"My Neural Network\n",
              "\n",
              "\n",
              "\n",
              "Input Layer (+6)\"\n",
              "\t\trank=same\n",
              "\t\t8\n",
              "\t\tlabel=\"My Neural Network\n",
              "\n",
              "\n",
              "\n",
              "Input Layer (+6)\"\n",
              "\t\trank=same\n",
              "\t\t9\n",
              "\t\tlabel=\"My Neural Network\n",
              "\n",
              "\n",
              "\n",
              "Input Layer (+6)\"\n",
              "\t\trank=same\n",
              "\t\t10\n",
              "\t\tlabel=\"My Neural Network\n",
              "\n",
              "\n",
              "\n",
              "Input Layer (+6)\"\n",
              "\t\trank=same\n",
              "\t}\n",
              "\t1 -> 11\n",
              "\t2 -> 11\n",
              "\t3 -> 11\n",
              "\t4 -> 11\n",
              "\t5 -> 11\n",
              "\t6 -> 11\n",
              "\t7 -> 11\n",
              "\t8 -> 11\n",
              "\t9 -> 11\n",
              "\t10 -> 11\n",
              "\t1 -> 12\n",
              "\t2 -> 12\n",
              "\t3 -> 12\n",
              "\t4 -> 12\n",
              "\t5 -> 12\n",
              "\t6 -> 12\n",
              "\t7 -> 12\n",
              "\t8 -> 12\n",
              "\t9 -> 12\n",
              "\t10 -> 12\n",
              "\t1 -> 13\n",
              "\t2 -> 13\n",
              "\t3 -> 13\n",
              "\t4 -> 13\n",
              "\t5 -> 13\n",
              "\t6 -> 13\n",
              "\t7 -> 13\n",
              "\t8 -> 13\n",
              "\t9 -> 13\n",
              "\t10 -> 13\n",
              "\t1 -> 14\n",
              "\t2 -> 14\n",
              "\t3 -> 14\n",
              "\t4 -> 14\n",
              "\t5 -> 14\n",
              "\t6 -> 14\n",
              "\t7 -> 14\n",
              "\t8 -> 14\n",
              "\t9 -> 14\n",
              "\t10 -> 14\n",
              "\t1 -> 15\n",
              "\t2 -> 15\n",
              "\t3 -> 15\n",
              "\t4 -> 15\n",
              "\t5 -> 15\n",
              "\t6 -> 15\n",
              "\t7 -> 15\n",
              "\t8 -> 15\n",
              "\t9 -> 15\n",
              "\t10 -> 15\n",
              "\t1 -> 16\n",
              "\t2 -> 16\n",
              "\t3 -> 16\n",
              "\t4 -> 16\n",
              "\t5 -> 16\n",
              "\t6 -> 16\n",
              "\t7 -> 16\n",
              "\t8 -> 16\n",
              "\t9 -> 16\n",
              "\t10 -> 16\n",
              "\t1 -> 17\n",
              "\t2 -> 17\n",
              "\t3 -> 17\n",
              "\t4 -> 17\n",
              "\t5 -> 17\n",
              "\t6 -> 17\n",
              "\t7 -> 17\n",
              "\t8 -> 17\n",
              "\t9 -> 17\n",
              "\t10 -> 17\n",
              "\t1 -> 18\n",
              "\t2 -> 18\n",
              "\t3 -> 18\n",
              "\t4 -> 18\n",
              "\t5 -> 18\n",
              "\t6 -> 18\n",
              "\t7 -> 18\n",
              "\t8 -> 18\n",
              "\t9 -> 18\n",
              "\t10 -> 18\n",
              "\t1 -> 19\n",
              "\t2 -> 19\n",
              "\t3 -> 19\n",
              "\t4 -> 19\n",
              "\t5 -> 19\n",
              "\t6 -> 19\n",
              "\t7 -> 19\n",
              "\t8 -> 19\n",
              "\t9 -> 19\n",
              "\t10 -> 19\n",
              "\t1 -> 20\n",
              "\t2 -> 20\n",
              "\t3 -> 20\n",
              "\t4 -> 20\n",
              "\t5 -> 20\n",
              "\t6 -> 20\n",
              "\t7 -> 20\n",
              "\t8 -> 20\n",
              "\t9 -> 20\n",
              "\t10 -> 20\n",
              "\tsubgraph cluster_1 {\n",
              "\t\tcolor=white\n",
              "\t\trank=same\n",
              "\t\tlabel=\" (+3)\" labeljust=right labelloc=b\n",
              "\t\t11 [color=\"#3498db\" fontcolor=\"#3498db\" shape=circle style=filled]\n",
              "\t\t12 [color=\"#3498db\" fontcolor=\"#3498db\" shape=circle style=filled]\n",
              "\t\t13 [color=\"#3498db\" fontcolor=\"#3498db\" shape=circle style=filled]\n",
              "\t\t14 [color=\"#3498db\" fontcolor=\"#3498db\" shape=circle style=filled]\n",
              "\t\t15 [color=\"#3498db\" fontcolor=\"#3498db\" shape=circle style=filled]\n",
              "\t\t16 [color=\"#3498db\" fontcolor=\"#3498db\" shape=circle style=filled]\n",
              "\t\t17 [color=\"#3498db\" fontcolor=\"#3498db\" shape=circle style=filled]\n",
              "\t\t18 [color=\"#3498db\" fontcolor=\"#3498db\" shape=circle style=filled]\n",
              "\t\t19 [color=\"#3498db\" fontcolor=\"#3498db\" shape=circle style=filled]\n",
              "\t\t20 [color=\"#3498db\" fontcolor=\"#3498db\" shape=circle style=filled]\n",
              "\t}\n",
              "\t11 -> 21\n",
              "\t12 -> 21\n",
              "\t13 -> 21\n",
              "\t14 -> 21\n",
              "\t15 -> 21\n",
              "\t16 -> 21\n",
              "\t17 -> 21\n",
              "\t18 -> 21\n",
              "\t19 -> 21\n",
              "\t20 -> 21\n",
              "\t11 -> 22\n",
              "\t12 -> 22\n",
              "\t13 -> 22\n",
              "\t14 -> 22\n",
              "\t15 -> 22\n",
              "\t16 -> 22\n",
              "\t17 -> 22\n",
              "\t18 -> 22\n",
              "\t19 -> 22\n",
              "\t20 -> 22\n",
              "\t11 -> 23\n",
              "\t12 -> 23\n",
              "\t13 -> 23\n",
              "\t14 -> 23\n",
              "\t15 -> 23\n",
              "\t16 -> 23\n",
              "\t17 -> 23\n",
              "\t18 -> 23\n",
              "\t19 -> 23\n",
              "\t20 -> 23\n",
              "\t11 -> 24\n",
              "\t12 -> 24\n",
              "\t13 -> 24\n",
              "\t14 -> 24\n",
              "\t15 -> 24\n",
              "\t16 -> 24\n",
              "\t17 -> 24\n",
              "\t18 -> 24\n",
              "\t19 -> 24\n",
              "\t20 -> 24\n",
              "\t11 -> 25\n",
              "\t12 -> 25\n",
              "\t13 -> 25\n",
              "\t14 -> 25\n",
              "\t15 -> 25\n",
              "\t16 -> 25\n",
              "\t17 -> 25\n",
              "\t18 -> 25\n",
              "\t19 -> 25\n",
              "\t20 -> 25\n",
              "\t11 -> 26\n",
              "\t12 -> 26\n",
              "\t13 -> 26\n",
              "\t14 -> 26\n",
              "\t15 -> 26\n",
              "\t16 -> 26\n",
              "\t17 -> 26\n",
              "\t18 -> 26\n",
              "\t19 -> 26\n",
              "\t20 -> 26\n",
              "\t11 -> 27\n",
              "\t12 -> 27\n",
              "\t13 -> 27\n",
              "\t14 -> 27\n",
              "\t15 -> 27\n",
              "\t16 -> 27\n",
              "\t17 -> 27\n",
              "\t18 -> 27\n",
              "\t19 -> 27\n",
              "\t20 -> 27\n",
              "\t11 -> 28\n",
              "\t12 -> 28\n",
              "\t13 -> 28\n",
              "\t14 -> 28\n",
              "\t15 -> 28\n",
              "\t16 -> 28\n",
              "\t17 -> 28\n",
              "\t18 -> 28\n",
              "\t19 -> 28\n",
              "\t20 -> 28\n",
              "\t11 -> 29\n",
              "\t12 -> 29\n",
              "\t13 -> 29\n",
              "\t14 -> 29\n",
              "\t15 -> 29\n",
              "\t16 -> 29\n",
              "\t17 -> 29\n",
              "\t18 -> 29\n",
              "\t19 -> 29\n",
              "\t20 -> 29\n",
              "\t11 -> 30\n",
              "\t12 -> 30\n",
              "\t13 -> 30\n",
              "\t14 -> 30\n",
              "\t15 -> 30\n",
              "\t16 -> 30\n",
              "\t17 -> 30\n",
              "\t18 -> 30\n",
              "\t19 -> 30\n",
              "\t20 -> 30\n",
              "\tsubgraph cluster_2 {\n",
              "\t\tcolor=white\n",
              "\t\trank=same\n",
              "\t\tlabel=\" (+3)\" labeljust=right labelloc=b\n",
              "\t\t21 [color=\"#3498db\" fontcolor=\"#3498db\" shape=circle style=filled]\n",
              "\t\t22 [color=\"#3498db\" fontcolor=\"#3498db\" shape=circle style=filled]\n",
              "\t\t23 [color=\"#3498db\" fontcolor=\"#3498db\" shape=circle style=filled]\n",
              "\t\t24 [color=\"#3498db\" fontcolor=\"#3498db\" shape=circle style=filled]\n",
              "\t\t25 [color=\"#3498db\" fontcolor=\"#3498db\" shape=circle style=filled]\n",
              "\t\t26 [color=\"#3498db\" fontcolor=\"#3498db\" shape=circle style=filled]\n",
              "\t\t27 [color=\"#3498db\" fontcolor=\"#3498db\" shape=circle style=filled]\n",
              "\t\t28 [color=\"#3498db\" fontcolor=\"#3498db\" shape=circle style=filled]\n",
              "\t\t29 [color=\"#3498db\" fontcolor=\"#3498db\" shape=circle style=filled]\n",
              "\t\t30 [color=\"#3498db\" fontcolor=\"#3498db\" shape=circle style=filled]\n",
              "\t}\n",
              "\t21 -> 31\n",
              "\t22 -> 31\n",
              "\t23 -> 31\n",
              "\t24 -> 31\n",
              "\t25 -> 31\n",
              "\t26 -> 31\n",
              "\t27 -> 31\n",
              "\t28 -> 31\n",
              "\t29 -> 31\n",
              "\t30 -> 31\n",
              "\t21 -> 32\n",
              "\t22 -> 32\n",
              "\t23 -> 32\n",
              "\t24 -> 32\n",
              "\t25 -> 32\n",
              "\t26 -> 32\n",
              "\t27 -> 32\n",
              "\t28 -> 32\n",
              "\t29 -> 32\n",
              "\t30 -> 32\n",
              "\t21 -> 33\n",
              "\t22 -> 33\n",
              "\t23 -> 33\n",
              "\t24 -> 33\n",
              "\t25 -> 33\n",
              "\t26 -> 33\n",
              "\t27 -> 33\n",
              "\t28 -> 33\n",
              "\t29 -> 33\n",
              "\t30 -> 33\n",
              "\t21 -> 34\n",
              "\t22 -> 34\n",
              "\t23 -> 34\n",
              "\t24 -> 34\n",
              "\t25 -> 34\n",
              "\t26 -> 34\n",
              "\t27 -> 34\n",
              "\t28 -> 34\n",
              "\t29 -> 34\n",
              "\t30 -> 34\n",
              "\t21 -> 35\n",
              "\t22 -> 35\n",
              "\t23 -> 35\n",
              "\t24 -> 35\n",
              "\t25 -> 35\n",
              "\t26 -> 35\n",
              "\t27 -> 35\n",
              "\t28 -> 35\n",
              "\t29 -> 35\n",
              "\t30 -> 35\n",
              "\t21 -> 36\n",
              "\t22 -> 36\n",
              "\t23 -> 36\n",
              "\t24 -> 36\n",
              "\t25 -> 36\n",
              "\t26 -> 36\n",
              "\t27 -> 36\n",
              "\t28 -> 36\n",
              "\t29 -> 36\n",
              "\t30 -> 36\n",
              "\t21 -> 37\n",
              "\t22 -> 37\n",
              "\t23 -> 37\n",
              "\t24 -> 37\n",
              "\t25 -> 37\n",
              "\t26 -> 37\n",
              "\t27 -> 37\n",
              "\t28 -> 37\n",
              "\t29 -> 37\n",
              "\t30 -> 37\n",
              "\t21 -> 38\n",
              "\t22 -> 38\n",
              "\t23 -> 38\n",
              "\t24 -> 38\n",
              "\t25 -> 38\n",
              "\t26 -> 38\n",
              "\t27 -> 38\n",
              "\t28 -> 38\n",
              "\t29 -> 38\n",
              "\t30 -> 38\n",
              "\t21 -> 39\n",
              "\t22 -> 39\n",
              "\t23 -> 39\n",
              "\t24 -> 39\n",
              "\t25 -> 39\n",
              "\t26 -> 39\n",
              "\t27 -> 39\n",
              "\t28 -> 39\n",
              "\t29 -> 39\n",
              "\t30 -> 39\n",
              "\t21 -> 40\n",
              "\t22 -> 40\n",
              "\t23 -> 40\n",
              "\t24 -> 40\n",
              "\t25 -> 40\n",
              "\t26 -> 40\n",
              "\t27 -> 40\n",
              "\t28 -> 40\n",
              "\t29 -> 40\n",
              "\t30 -> 40\n",
              "\tsubgraph cluster_3 {\n",
              "\t\tcolor=white\n",
              "\t\trank=same\n",
              "\t\tlabel=\" (+3)\" labeljust=right labelloc=b\n",
              "\t\t31 [color=\"#3498db\" fontcolor=\"#3498db\" shape=circle style=filled]\n",
              "\t\t32 [color=\"#3498db\" fontcolor=\"#3498db\" shape=circle style=filled]\n",
              "\t\t33 [color=\"#3498db\" fontcolor=\"#3498db\" shape=circle style=filled]\n",
              "\t\t34 [color=\"#3498db\" fontcolor=\"#3498db\" shape=circle style=filled]\n",
              "\t\t35 [color=\"#3498db\" fontcolor=\"#3498db\" shape=circle style=filled]\n",
              "\t\t36 [color=\"#3498db\" fontcolor=\"#3498db\" shape=circle style=filled]\n",
              "\t\t37 [color=\"#3498db\" fontcolor=\"#3498db\" shape=circle style=filled]\n",
              "\t\t38 [color=\"#3498db\" fontcolor=\"#3498db\" shape=circle style=filled]\n",
              "\t\t39 [color=\"#3498db\" fontcolor=\"#3498db\" shape=circle style=filled]\n",
              "\t\t40 [color=\"#3498db\" fontcolor=\"#3498db\" shape=circle style=filled]\n",
              "\t}\n",
              "\t31 -> 41\n",
              "\t32 -> 41\n",
              "\t33 -> 41\n",
              "\t34 -> 41\n",
              "\t35 -> 41\n",
              "\t36 -> 41\n",
              "\t37 -> 41\n",
              "\t38 -> 41\n",
              "\t39 -> 41\n",
              "\t40 -> 41\n",
              "\tsubgraph cluster_output {\n",
              "\t\tnode [color=\"#2ecc71\" fontcolor=\"#2ecc71\" shape=circle style=filled]\n",
              "\t\tcolor=white\n",
              "\t\trank=same\n",
              "\t\tlabeljust=1\n",
              "\t\t41 [color=\"#e74c3c\" fontcolor=\"#e74c3c\" shape=circle style=filled]\n",
              "\t\tlabel=\"Output Layer\" labelloc=bottom\n",
              "\t}\n",
              "\tarrowShape=none\n",
              "}\n"
            ]
          },
          "metadata": {},
          "execution_count": 76
        }
      ]
    }
  ]
}