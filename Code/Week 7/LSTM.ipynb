{
 "cells": [
  {
   "cell_type": "markdown",
   "metadata": {
    "id": "6dJuZDx9qWeM"
   },
   "source": [
    "# 1.) Import an asset price from Yahoo Finance"
   ]
  },
  {
   "cell_type": "code",
   "execution_count": 51,
   "metadata": {
    "ExecuteTime": {
     "end_time": "2023-03-01T03:19:59.229322Z",
     "start_time": "2023-03-01T03:19:58.715807Z"
    },
    "colab": {
     "base_uri": "https://localhost:8080/",
     "height": 373
    },
    "executionInfo": {
     "elapsed": 361,
     "status": "error",
     "timestamp": 1677458362204,
     "user": {
      "displayName": "JIE HOU",
      "userId": "03444464379983128847"
     },
     "user_tz": 480
    },
    "id": "Y3bcwJb4rp93",
    "outputId": "d84eb901-2e91-4c20-e08e-8362390378ac"
   },
   "outputs": [
    {
     "name": "stdout",
     "output_type": "stream",
     "text": [
      "[*********************100%***********************]  1 of 1 completed\n"
     ]
    }
   ],
   "source": [
    "import yfinance as yf\n",
    "import numpy as np\n",
    "import pandas as pd\n",
    "from sklearn.preprocessing import MinMaxScaler\n",
    "from tensorflow.keras.models import Sequential\n",
    "from tensorflow.keras.layers import Dense, LSTM, Dropout\n",
    "\n",
    "########################################\n",
    "####Pick your ticker and time period####\n",
    "########################################\n",
    "stock_data = yf.download(\"TSLA\", start=\"2010-07-01\", end=\"2022-02-21\")\n",
    "\n",
    "# Preprocess data\n",
    "scaled_data = np.array(stock_data[\"Close\"].pct_change().dropna()).reshape(-1,1)\n",
    "\n",
    "# Split data into training and test sets\n",
    "training_data_len = int(len(scaled_data) * 0.8)\n",
    "train_data = scaled_data[0:training_data_len, :]"
   ]
  },
  {
   "cell_type": "markdown",
   "metadata": {
    "id": "foHoGy9hq3_o"
   },
   "source": [
    "# 2.) Create your x_train/y_train data so that your RNN uses percentage change data to make a binary forecast where the stock moves up or down the next day Build an RNN Architecture accordingly"
   ]
  },
  {
   "cell_type": "code",
   "execution_count": 52,
   "metadata": {
    "ExecuteTime": {
     "end_time": "2023-03-01T03:20:21.186081Z",
     "start_time": "2023-03-01T03:20:01.174455Z"
    },
    "id": "5qGFB5HfqcVd"
   },
   "outputs": [
    {
     "name": "stdout",
     "output_type": "stream",
     "text": [
      "Epoch 1/3\n",
      "2338/2338 [==============================] - 8s 3ms/step - loss: 0.0011\n",
      "Epoch 2/3\n",
      "2338/2338 [==============================] - 6s 3ms/step - loss: 0.0010\n",
      "Epoch 3/3\n",
      "2338/2338 [==============================] - 6s 3ms/step - loss: 0.0010\n"
     ]
    },
    {
     "data": {
      "text/plain": [
       "<tensorflow.python.keras.callbacks.History at 0x2b75aa597f0>"
      ]
     },
     "execution_count": 52,
     "metadata": {},
     "output_type": "execute_result"
    }
   ],
   "source": [
    "x_train = []\n",
    "y_train = []\n",
    "\n",
    "#############################################################\n",
    "####Pick your input size and edit to make binary forecast####\n",
    "#############################################################\n",
    "input_size = 6\n",
    "for i in range(input_size, len(train_data)):\n",
    "    x_train.append(train_data[i - input_size:i, 0])\n",
    "    y_train.append(train_data[i, 0])\n",
    "\n",
    "x_train, y_train = np.array(x_train), np.array(y_train)\n",
    "x_train = np.reshape(x_train, (x_train.shape[0], x_train.shape[1], 1))\n",
    "\n",
    "###################################\n",
    "####Build Your RNN Architecture####\n",
    "###################################\n",
    "model = Sequential()\n",
    "model.add(\n",
    "    LSTM(units=x_train.shape[1],\n",
    "         return_sequences=True,\n",
    "         input_shape=(x_train.shape[1], 1)))\n",
    "model.add(Dropout(0.2))\n",
    "model.add(LSTM(units=64, return_sequences=True))\n",
    "model.add(Dropout(0.2))\n",
    "model.add(LSTM(units=64, return_sequences=False))\n",
    "model.add(Dropout(0.2))\n",
    "model.add(Dense(units=25))\n",
    "model.add(Dense(units=1))\n",
    "\n",
    "model.compile(optimizer='adam', loss='mean_squared_error')\n",
    "model.fit(x_train, y_train, batch_size=1, epochs=3)"
   ]
  },
  {
   "cell_type": "markdown",
   "metadata": {
    "id": "yFhO9vMjsWPk"
   },
   "source": [
    "# 3.) Test your model and compare insample Accurracy, insample random walk assumption Accuracy, Out of sample Accuracy and out of sample random walk assumption Accuracy using a bar chart"
   ]
  },
  {
   "cell_type": "code",
   "execution_count": 53,
   "metadata": {
    "ExecuteTime": {
     "end_time": "2023-03-01T03:20:28.978953Z",
     "start_time": "2023-03-01T03:20:28.436624Z"
    },
    "id": "r1Xj6Ji-rwnM"
   },
   "outputs": [],
   "source": [
    "test_data = scaled_data[training_data_len - input_size:, :]\n",
    "\n",
    "# Make predictions on the test data\n",
    "window_size = 6\n",
    "x_test, y_test = [], []\n",
    "\n",
    "for i in range(window_size, len(test_data)):\n",
    "    x_test.append(test_data[i - window_size:i, 0])\n",
    "    y_test.append(test_data[i, 0])\n",
    "x_test, y_test = np.array(x_test), np.array(y_test)\n",
    "x_test = np.reshape(x_test, (x_test.shape[0], x_test.shape[1], 1))\n",
    "\n",
    "predictions = model.predict(x_test)"
   ]
  },
  {
   "cell_type": "code",
   "execution_count": 55,
   "metadata": {
    "ExecuteTime": {
     "end_time": "2023-03-01T03:22:55.606572Z",
     "start_time": "2023-03-01T03:22:55.338984Z"
    },
    "id": "35O_7b3iX1cX"
   },
   "outputs": [],
   "source": [
    "from sklearn.metrics import mean_squared_error\n",
    "\n",
    "in_sample_mse = mean_squared_error(y_train, model.predict(x_train))\n",
    "in_sample_rw_mse = mean_squared_error(y_train[1:], y_train[:-1])\n",
    "out_sample_mse = mean_squared_error(y_test, model.predict(x_test))\n",
    "out_sample_rw_mse = mean_squared_error(y_test[1:], y_test[:-1])"
   ]
  },
  {
   "cell_type": "code",
   "execution_count": 57,
   "metadata": {
    "ExecuteTime": {
     "end_time": "2023-03-01T03:25:41.759724Z",
     "start_time": "2023-03-01T03:25:41.715877Z"
    }
   },
   "outputs": [
    {
     "data": {
      "image/png": "[encoded data removed]",
      "text/plain": [
       "<Figure size 432x288 with 1 Axes>"
      ]
     },
     "metadata": {
      "needs_background": "light"
     },
     "output_type": "display_data"
    }
   ],
   "source": [
    "import matplotlib.pyplot as plt\n",
    "\n",
    "labels = ['In-Sample MSE', 'In-Sample RW MSE', 'Out-of-Sample MSE', 'Out-of-Sample RW MSE']\n",
    "values = [in_sample_mse, in_sample_rw_mse, out_sample_mse, out_sample_rw_mse]\n",
    "\n",
    "plt.bar(labels, values)\n",
    "plt.ylabel('Accuracy')\n",
    "plt.title('Model Accuracies')\n",
    "plt.xticks(rotation=45)\n",
    "plt.show()"
   ]
  },
  {
   "cell_type": "markdown",
   "metadata": {
    "id": "8bncNwh8tKiE"
   },
   "source": [
    "# 4.) Plot in and out of sample accuracy"
   ]
  },
  {
   "cell_type": "markdown",
   "metadata": {
    "id": "bK_jyyEEtTUB"
   },
   "source": [
    "# 5.) Write an observation/conclusion about the graphs from Q4 and Q3"
   ]
  },
  {
   "cell_type": "markdown",
   "metadata": {},
   "source": [
    "In-sample MSE is much lower that In-sample RW MSE and Out-of-Sample MSE, which means our model is better than RW. And works better on in-sample data than out-of-sample data. Also Out-of-Sample MSE is much lower than Out-of-Sample RW MSE, which also proves our model make sence."
   ]
  },
  {
   "cell_type": "markdown",
   "metadata": {
    "id": "pFtrp-lmtw6t"
   },
   "source": [
    "# 6.) Create a parameter for number of lags in your input layer. Do a 3-fold CV to test three different time lags. i.e. Tested using 5,10,20 days of previous price data to forecast"
   ]
  }
 ],
 "metadata": {
  "colab": {
   "provenance": []
  },
  "kernelspec": {
   "display_name": "Python 3 (ipykernel)",
   "language": "python",
   "name": "python3"
  },
  "language_info": {
   "codemirror_mode": {
    "name": "ipython",
    "version": 3
   },
   "file_extension": ".py",
   "mimetype": "text/x-python",
   "name": "python",
   "nbconvert_exporter": "python",
   "pygments_lexer": "ipython3",
   "version": "3.9.12"
  },
  "toc": {
   "base_numbering": 1,
   "nav_menu": {},
   "number_sections": true,
   "sideBar": true,
   "skip_h1_title": false,
   "title_cell": "Table of Contents",
   "title_sidebar": "Contents",
   "toc_cell": false,
   "toc_position": {},
   "toc_section_display": true,
   "toc_window_display": false
  }
 },
 "nbformat": 4,
 "nbformat_minor": 1
}
